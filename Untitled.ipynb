{
 "cells": [
  {
   "cell_type": "code",
   "execution_count": 1,
   "id": "1f72555b",
   "metadata": {},
   "outputs": [],
   "source": [
    "import pandas as pd\n",
    "import Chefboost as chef"
   ]
  },
  {
   "cell_type": "code",
   "execution_count": 2,
   "id": "48d28445",
   "metadata": {},
   "outputs": [
    {
     "name": "stdout",
     "output_type": "stream",
     "text": [
      "     Age  Total_Bilirubin  Direct_Bilirubin  Alkaline_Phosphotase  \\\n",
      "0     50                9                 2                   202   \n",
      "1     66              173                85                   388   \n",
      "2     47               35                16                   206   \n",
      "3     57               45                23                   315   \n",
      "4     52                8                 2                   245   \n",
      "..   ...              ...               ...                   ...   \n",
      "515   75                9                 2                   162   \n",
      "516   42                7                 2                   197   \n",
      "517   64                3                14                   248   \n",
      "518   23               23                 8                   509   \n",
      "519   74                1                 3                   175   \n",
      "\n",
      "     Alamine_Aminotransferase  Aspartate_Aminotransferase  Total_Protiens  \\\n",
      "0                          20                          26              72   \n",
      "1                         173                         367              78   \n",
      "2                          32                          31              68   \n",
      "3                         120                         105               7   \n",
      "4                          48                          49              64   \n",
      "..                        ...                         ...             ...   \n",
      "515                        25                          20              69   \n",
      "516                        64                          33              58   \n",
      "517                        46                          40              65   \n",
      "518                        28                          44              69   \n",
      "519                        30                          32              64   \n",
      "\n",
      "     Albumin  Albumin_and_Globulin_Ratio decision  \n",
      "0         45                         166    liver  \n",
      "1         26                           5    liver  \n",
      "2         34                           1    liver  \n",
      "3          4                          13    liver  \n",
      "4         32                           1    liver  \n",
      "..       ...                         ...      ...  \n",
      "515       37                          11    liver  \n",
      "516       24                           7   normal  \n",
      "517       32                           9    liver  \n",
      "518       29                           7   normal  \n",
      "519       34                          11    liver  \n",
      "\n",
      "[520 rows x 10 columns]\n"
     ]
    }
   ],
   "source": [
    "df = pd.read_csv(\"liver dataset convert.csv\")\n",
    "print(df)"
   ]
  },
  {
   "cell_type": "code",
   "execution_count": null,
   "id": "3694a4d6",
   "metadata": {},
   "outputs": [
    {
     "name": "stdout",
     "output_type": "stream",
     "text": [
      "C4.5  tree is going to be built...\n"
     ]
    },
    {
     "name": "stderr",
     "output_type": "stream",
     "text": [
      "Adaboosting:  33%|████████████████████████▎                                                | 1/3 [00:06<00:12,  6.17s/it]"
     ]
    },
    {
     "name": "stdout",
     "output_type": "stream",
     "text": [
      "perubahan di rumus alpha dibagi 2\n",
      "0.8943674845641459 tot new weiight\n",
      "1.0 sum weight\n",
      "0      0.002150\n",
      "1      0.002150\n",
      "2      0.002150\n",
      "3      0.002150\n",
      "4      0.002150\n",
      "         ...   \n",
      "515    0.002150\n",
      "516    0.001324\n",
      "517    0.002150\n",
      "518    0.001324\n",
      "519    0.002150\n",
      "Name: New_Weights, Length: 520, dtype: float64 new weight\n"
     ]
    },
    {
     "name": "stderr",
     "output_type": "stream",
     "text": [
      "\r",
      "Adaboosting:  67%|████████████████████████████████████████████████▋                        | 2/3 [00:30<00:16, 16.92s/it]"
     ]
    },
    {
     "name": "stdout",
     "output_type": "stream",
     "text": [
      "perubahan di rumus alpha dibagi 2\n",
      "0.9023456752802951 tot new weiight\n",
      "0.9999999999999998 sum weight\n",
      "0      0.002383\n",
      "1      0.002383\n",
      "2      0.002383\n",
      "3      0.002383\n",
      "4      0.002383\n",
      "         ...   \n",
      "515    0.002383\n",
      "516    0.000707\n",
      "517    0.002383\n",
      "518    0.000707\n",
      "519    0.002383\n",
      "Name: New_Weights, Length: 520, dtype: float64 new weight\n"
     ]
    }
   ],
   "source": [
    "config =  {'algorithm': 'C4.5', 'enableParallelism': False, 'boosting': 'adaboost'}\n",
    "model = chef.fit(df.copy(), config=config, target_label = 'decision')"
   ]
  },
  {
   "cell_type": "code",
   "execution_count": null,
   "id": "490c1f1c",
   "metadata": {},
   "outputs": [],
   "source": []
  }
 ],
 "metadata": {
  "kernelspec": {
   "display_name": "Python 3 (ipykernel)",
   "language": "python",
   "name": "python3"
  },
  "language_info": {
   "codemirror_mode": {
    "name": "ipython",
    "version": 3
   },
   "file_extension": ".py",
   "mimetype": "text/x-python",
   "name": "python",
   "nbconvert_exporter": "python",
   "pygments_lexer": "ipython3",
   "version": "3.9.9"
  }
 },
 "nbformat": 4,
 "nbformat_minor": 5
}
